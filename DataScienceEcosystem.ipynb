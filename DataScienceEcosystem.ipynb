{
 "cells": [
  {
   "cell_type": "markdown",
   "metadata": {},
   "source": [
    "<center>\n",
    "    <img src=\"https://cf-courses-data.s3.us.cloud-object-storage.appdomain.cloud/IBMDeveloperSkillsNetwork-DS0105EN-SkillsNetwork/labs/Module2/images/SN_web_lightmode.png\" width=\"300\" alt=\"cognitiveclass.ai logo\">\n",
    "</center>\n"
   ]
  },
  {
   "cell_type": "markdown",
   "metadata": {},
   "source": [
    "#### Add your code below following the instructions given in the course\n"
   ]
  },
  {
   "cell_type": "markdown",
   "metadata": {},
   "source": [
    "Data Science Tools and Ecosystem"
   ]
  },
  {
   "attachments": {
    "1e5174a2-b5da-48d1-8802-972e6cfd4c72.png": {
     "image/png": "[encoded data removed]"
    }
   },
   "cell_type": "markdown",
   "metadata": {},
   "source": [
    "![image.png](attachment:1e5174a2-b5da-48d1-8802-972e6cfd4c72.png)"
   ]
  },
  {
   "cell_type": "markdown",
   "metadata": {},
   "source": [
    "# Data Science Tools and Ecosystem\n",
    "In this notebook, Data Science Tools and Ecosystem are summarized.\n",
    "## 🧰 Popular Data Science Tools\n",
    "- Jupyter Notebook – Interactive computing and visualization  \n",
    "- RStudio – IDE for R programming  \n",
    "- Apache Zeppelin – Web-based notebook for data analytics  \n",
    "- Spyder – Scientific Python development environment  \n",
    "- Google Colab – Cloud-based Jupyter environment  \n",
    "## 🧪 Programming Languages\n",
    "- Python – Widely used for data analysis, machine learning, and visualization  \n",
    "- R – Strong in statistical analysis and data visualization  \n",
    "- SQL – Essential for querying relational databases  \n",
    "- Scala – Often used with Apache Spark for big data processing  \n",
    "- Julia – High-performance language for numerical computing  \n",
    "## 🗃️ Data Management Tools\n",
    "- MySQL, PostgreSQL, MongoDB – Popular databases  \n",
    "- Apache Hadoop – Distributed storage and processing  \n",
    "- Apache Spark – Fast data processing engine  \n",
    "- Pandas – Python library for data manipulation  \n",
    "- Dask – Parallel computing with Pandas-like syntax  \n",
    "## 📊 Visualization Libraries\n",
    "- Matplotlib, Seaborn, Plotly – Python-based visualization  \n",
    "- ggplot2 – R-based visualization  \n",
    "- Tableau, Power BI – Business intelligence tools  \n",
    "## 🤖 Machine Learning Frameworks\n",
    "- Scikit-learn – Classical ML algorithms in Python  \n",
    "- TensorFlow, Keras, PyTorch – Deep learning frameworks  \n",
    "- XGBoost, LightGBM – Gradient boosting libraries  \n",
    "## ☁️ Cloud Platforms\n",
    "- AWS, Google Cloud Platform (GCP), Microsoft Azure – Scalable cloud computing  \n",
    "- Databricks – Unified analytics platform built on Apache Spark  \n",
    "## 🛠️ DevOps & Collaboration\n",
    "- Git, GitHub, GitLab – Version control and collaboration  \n",
    "- Docker, Kubernetes – Containerization and orchestration  \n",
    "\n"
   ]
  },
  {
   "cell_type": "markdown",
   "metadata": {},
   "source": [
    "# Data Science Tools and Ecosystem\n",
    "\n",
    "Some of the popular languages that Data Scientists use are:\n",
    "\n",
    "1. Python – Widely used for data analysis, machine learning, and visualization  \n",
    "2. R – Strong in statistical analysis and data visualization  \n",
    "3. SQL – Essential for querying and managing structured data  \n",
    "4. Scala – Often used with big data tools like Apache Spark  \n",
    "5. Julia – Known for high-performance numerical computing  \n"
   ]
  },
  {
   "cell_type": "markdown",
   "metadata": {},
   "source": [
    "# Some of the commonly used libraries used by Data Scientists include:\n",
    "\n",
    "1. Pandas – Data manipulation and analysis in Python  \n",
    "2. NumPy – Numerical computing with arrays and matrices  \n",
    "3. Matplotlib – Data visualization in Python  \n",
    "4. Scikit-learn – Machine learning algorithms and tools  \n",
    "5. TensorFlow – Deep learning framework developed by Google"
   ]
  },
  {
   "cell_type": "markdown",
   "metadata": {},
   "source": [
    "# Data Science Tools and Ecosystem\n",
    "\n",
    "In this notebook, Data Science Tools and Ecosystem are summarized.\n",
    "\n",
    "Some of the popular languages that Data Scientists use are:\n",
    "\n",
    "1. Python – Widely used for data analysis, machine learning, and visualization  \n",
    "2. R – Strong in statistical analysis and data visualization  \n",
    "3. SQL – Essential for querying and managing structured data  \n",
    "4. Scala – Often used with big data tools like Apache Spark  \n",
    "5. Julia – Known for high-performance numerical computing  \n",
    "\n",
    "Some of the commonly used libraries used by Data Scientists include:\n",
    "\n",
    "1. Pandas – Data manipulation and analysis in Python  \n",
    "2. NumPy – Numerical computing with arrays and matrices  \n",
    "3. Matplotlib – Data visualization in Python  \n",
    "4. Scikit-learn – Machine learning algorithms and tools  \n",
    "5. TensorFlow – Deep learning framework developed by Google  \n",
    "\n",
    "| Data Science Tools         |\n",
    "|----------------------------|\n",
    "| Jupyter Notebook           |\n",
    "| RStudio                    |\n",
    "| Apache Zeppelin            |\n"
   ]
  },
  {
   "cell_type": "markdown",
   "metadata": {},
   "source": [
    "### Below are a few examples of evaluating arithmetic expressions in Python\n"
   ]
  },
  {
   "cell_type": "code",
   "execution_count": 7,
   "metadata": {},
   "outputs": [
    {
     "name": "stdout",
     "output_type": "stream",
     "text": [
      "17\n"
     ]
    }
   ],
   "source": [
    "# This is a simple arithmetic expression to multiply then add integers\n",
    "result = (3 * 4) + 5\n",
    "print(result)\n"
   ]
  },
  {
   "cell_type": "markdown",
   "metadata": {},
   "source": [
    "**Objectives:**\n",
    "\n",
    "- List popular languages for Data Science  \n",
    "- Understand the role of Python in Data Science  \n",
    "- Explore basic Python syntax and operations  \n",
    "- Learn how to use Jupyter Notebooks effectively  \n",
    "- Practice writing and executing Python code\n"
   ]
  },
  {
   "cell_type": "code",
   "execution_count": null,
   "metadata": {},
   "outputs": [],
   "source": []
  }
 ],
 "metadata": {
  "kernelspec": {
   "display_name": "Python 3 (ipykernel)",
   "language": "python",
   "name": "python3"
  },
  "language_info": {
   "codemirror_mode": {
    "name": "ipython",
    "version": 3
   },
   "file_extension": ".py",
   "mimetype": "text/x-python",
   "name": "python",
   "nbconvert_exporter": "python",
   "pygments_lexer": "ipython3",
   "version": "3.12.8"
  }
 },
 "nbformat": 4,
 "nbformat_minor": 4
}
